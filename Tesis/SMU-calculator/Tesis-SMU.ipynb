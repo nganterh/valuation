{
 "cells": [
  {
   "cell_type": "markdown",
   "id": "4e25d655-9ccc-4f97-9342-bc475e1aa8c3",
   "metadata": {},
   "source": [
    "<h1 align='center'>Valorización SMU</h1>"
   ]
  },
  {
   "cell_type": "code",
   "execution_count": null,
   "id": "a7187cd4-8f13-45f7-9072-3587139699f9",
   "metadata": {},
   "outputs": [],
   "source": [
    "import os\n",
    "print(f'pip install -r {os.getcwd()}\\\\requirements.txt')"
   ]
  },
  {
   "cell_type": "markdown",
   "id": "a7d18e82-a463-4dde-9b16-d113a68cb521",
   "metadata": {},
   "source": [
    "<h2>Importación de la Librerías</h2>"
   ]
  },
  {
   "cell_type": "code",
   "execution_count": null,
   "id": "038a296c-67fb-43c4-901f-5d3a4c87f653",
   "metadata": {},
   "outputs": [],
   "source": [
    "import importlib\n",
    "import matplotlib\n",
    "import pandas as pd\n",
    "\n",
    "from utils import functions"
   ]
  },
  {
   "cell_type": "markdown",
   "id": "6cf46448-682b-4e54-9530-2df0ce2b7adc",
   "metadata": {},
   "source": [
    "<h2>Definición de Variables Clave</h2>"
   ]
  },
  {
   "cell_type": "code",
   "execution_count": 62,
   "id": "b160752f-5575-4e6a-ab4e-7ab208e33591",
   "metadata": {},
   "outputs": [
    {
     "name": "stdin",
     "output_type": "stream",
     "text": [
      "Por favor, ingrese el ticker de la compañía a valorar:  SMU\n"
     ]
    }
   ],
   "source": [
    "company = str(input('Por favor, ingrese el ticker de la compañía a valorar: '))\n",
    "market = 'IGPA'"
   ]
  },
  {
   "cell_type": "markdown",
   "id": "ff3fe09c-1006-4ff0-b2c1-e2360c7dc975",
   "metadata": {},
   "source": [
    "<h2>Cálculo Beta</h2>"
   ]
  },
  {
   "cell_type": "code",
   "execution_count": 61,
   "id": "8d670f4c-b228-4000-b3f4-59cb59a35c94",
   "metadata": {},
   "outputs": [
    {
     "data": {
      "text/html": [
       "<div>\n",
       "<style scoped>\n",
       "    .dataframe tbody tr th:only-of-type {\n",
       "        vertical-align: middle;\n",
       "    }\n",
       "\n",
       "    .dataframe tbody tr th {\n",
       "        vertical-align: top;\n",
       "    }\n",
       "\n",
       "    .dataframe thead th {\n",
       "        text-align: right;\n",
       "    }\n",
       "</style>\n",
       "<table border=\"1\" class=\"dataframe\">\n",
       "  <thead>\n",
       "    <tr style=\"text-align: right;\">\n",
       "      <th></th>\n",
       "      <th>SMU_change</th>\n",
       "      <th>IGPA_change</th>\n",
       "    </tr>\n",
       "  </thead>\n",
       "  <tbody>\n",
       "    <tr>\n",
       "      <th>SMU_change</th>\n",
       "      <td>14.954201</td>\n",
       "      <td>6.969015</td>\n",
       "    </tr>\n",
       "    <tr>\n",
       "      <th>IGPA_change</th>\n",
       "      <td>6.969015</td>\n",
       "      <td>9.719451</td>\n",
       "    </tr>\n",
       "  </tbody>\n",
       "</table>\n",
       "</div>"
      ],
      "text/plain": [
       "             SMU_change  IGPA_change\n",
       "SMU_change    14.954201     6.969015\n",
       "IGPA_change    6.969015     9.719451"
      ]
     },
     "metadata": {},
     "output_type": "display_data"
    },
    {
     "name": "stdout",
     "output_type": "stream",
     "text": [
      "\n",
      "El beta de mercado de 0.72 unidades!\n",
      "\n"
     ]
    }
   ],
   "source": [
    "importlib.reload(functions)\n",
    "\n",
    "# We define our ticker and associated market to compare to\n",
    "cols_cov = []\n",
    "dict_dfs = {company: f'{company} Historical Data.csv',\n",
    "            market: f'S&P CLX {market} Historical Data.csv'}\n",
    "\n",
    "for key, data in dict_dfs.items():\n",
    "    # Using a parser funtion, data is cleaned\n",
    "    df_local = functions.parse_investing(data)\n",
    "    \n",
    "    # We add a year and week column to our dataframe\n",
    "    for i, dtime in enumerate(['Year', 'Week']):\n",
    "        df_local.insert(loc=0, column=dtime, value=df_local['Date'].apply(\n",
    "            lambda dtime: dtime.isocalendar()[i]))\n",
    "    \n",
    "    # A column of percentual change is added and results are stored\n",
    "    df_local[f'{key}_change'] = df_local['Price'].pct_change() * 100\n",
    "    dict_dfs[key] = df_local.dropna(subset=[f'{key}_change'])\n",
    "    cols_cov.append(f'{key}_change')\n",
    "\n",
    "\n",
    "# Relevant columns are merged to calculate a covariation matrix\n",
    "right_cols = ['Date', f'{market}_change']\n",
    "df_returns = pd.merge(dict_dfs[company],\n",
    "                      dict_dfs[market][right_cols], on='Date')\n",
    "\n",
    "# We generate and print our covariation matrix\n",
    "cov_matrix = df_returns[cols_cov].cov()\n",
    "display(cov_matrix)\n",
    "\n",
    "# Finally, our beta with the market is calculated\n",
    "beta = cov_matrix.iloc[0, 1] / cov_matrix.iloc[1, 1]\n",
    "print(f'\\nEl beta de mercado de {beta:.2f} unidades!\\n')"
   ]
  },
  {
   "cell_type": "code",
   "execution_count": null,
   "id": "a13d5556-c429-4628-a2f2-343474d8f0fb",
   "metadata": {},
   "outputs": [],
   "source": [
    "df_returns"
   ]
  },
  {
   "cell_type": "code",
   "execution_count": null,
   "id": "77ab9571-c72d-4392-b533-10cec9d61603",
   "metadata": {},
   "outputs": [],
   "source": [
    "plt.scatter(x, y, s=area, c=colors, alpha=0.5)\n",
    "plt.show()"
   ]
  },
  {
   "cell_type": "code",
   "execution_count": null,
   "id": "ed98f07a-714f-41d8-a389-6a0c56b0c124",
   "metadata": {},
   "outputs": [],
   "source": [
    "# dict_dfs['SMU']['SMU_change']\n",
    "dict_dfs['SMU'].at[0, 'Date'].isocalendar()"
   ]
  },
  {
   "cell_type": "code",
   "execution_count": null,
   "id": "d610b49d-fa7b-4f20-beb8-d24a4cba764f",
   "metadata": {},
   "outputs": [],
   "source": [
    "dict_dfs['SMU']['Date'].apply(lambda dtime:\n",
    "                              dtime.isocalendar()[1]).sort_values().unique()"
   ]
  },
  {
   "cell_type": "code",
   "execution_count": null,
   "id": "0c9b9027-24f4-46a0-92f9-e259d8f93d55",
   "metadata": {},
   "outputs": [],
   "source": []
  }
 ],
 "metadata": {
  "kernelspec": {
   "display_name": "Python 3 (ipykernel)",
   "language": "python",
   "name": "python3"
  },
  "language_info": {
   "codemirror_mode": {
    "name": "ipython",
    "version": 3
   },
   "file_extension": ".py",
   "mimetype": "text/x-python",
   "name": "python",
   "nbconvert_exporter": "python",
   "pygments_lexer": "ipython3",
   "version": "3.8.11"
  }
 },
 "nbformat": 4,
 "nbformat_minor": 5
}
